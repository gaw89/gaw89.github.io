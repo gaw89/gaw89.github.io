{
 "cells": [
  {
   "cell_type": "code",
   "execution_count": 19,
   "metadata": {
    "slideshow": {
     "slide_type": "skip"
    }
   },
   "outputs": [],
   "source": [
    "from traitlets.config.manager import BaseJSONConfigManager\n",
    "from IPython.display import HTML\n",
    "path = \"C:/apps/Anaconda/envs/base/etc/jupyter/nbconfig\"\n",
    "cm = BaseJSONConfigManager(config_dir=path)\n",
    "cm.update(\"livereveal\", {\n",
    "              \"theme\": \"serif\",\n",
    "              \"transition\": \"convex\",\n",
    "              \"start_slideshow_at\": \"selected\",\n",
    "              \"header\":\"<img src='img/penn-logo.png' style='float:right; max-height=5vh !important;'>\"\n",
    "})\n",
    "\n",
    "%matplotlib inline"
   ]
  },
  {
   "cell_type": "markdown",
   "metadata": {
    "slideshow": {
     "slide_type": "slide"
    }
   },
   "source": [
    "# Python for Analytics\n",
    "<img style=\"float: right; position: relative; left: -35%; text-align: left;\" src=\"img/python-logo-generic.svg\">\n",
    "<h3 style=\"float:right; position: absolute; bottom:0; right:0;\">By: Gideon Whitehead</h3>"
   ]
  },
  {
   "cell_type": "markdown",
   "metadata": {
    "slideshow": {
     "slide_type": "slide"
    }
   },
   "source": [
    "<style>\n",
    "    h4 {\n",
    "      margin-bottom: 1em !important;\n",
    "    }\n",
    "</style>\n",
    "\n",
    "# Outline\n",
    "\n",
    "- Introduction\n",
    "- Why Python?\n",
    "- Examples\n",
    "- Conclusion"
   ]
  },
  {
   "cell_type": "markdown",
   "metadata": {
    "slideshow": {
     "slide_type": "slide"
    }
   },
   "source": [
    "# Introduction: About Me\n",
    "\n",
    "Classical Guitarist by Training\n",
    "- BM, Cleveland Institute of Music; AD, Curtis Institute of Music\n",
    "- Teach for College House Music Program at Penn\n",
    "- Two Albums of Solo Classical Guitar"
   ]
  },
  {
   "cell_type": "markdown",
   "metadata": {
    "slideshow": {
     "slide_type": "subslide"
    }
   },
   "source": [
    "# Introduction: About Me\n",
    "\n",
    "Zero Quantitative Background\n",
    "- Last math class was 10th grade\n",
    "- Struggled on quantitative section of GMAT"
   ]
  },
  {
   "cell_type": "markdown",
   "metadata": {
    "slideshow": {
     "slide_type": "subslide"
    }
   },
   "source": [
    "# Introduction: About Me\n",
    "\n",
    "Learned to code **for free**\n",
    "- Python in early 2015\n",
    "- SQL in late 2015\n",
    "- Java in 2017\n",
    "- Full-stack Web Development a year ago"
   ]
  },
  {
   "cell_type": "markdown",
   "metadata": {
    "slideshow": {
     "slide_type": "subslide"
    }
   },
   "source": [
    "# Introduction: About Me\n",
    "\n",
    "Analytics Education\n",
    "- Completing MS in Business Analytics this month\n",
    "- Received Clarity Certification in Ambulatory Data Model in 2016\n",
    "- Completed EMC Data Science Associate certification in 2017"
   ]
  },
  {
   "cell_type": "markdown",
   "metadata": {
    "slideshow": {
     "slide_type": "slide"
    }
   },
   "source": [
    "# Why does this matter?"
   ]
  },
  {
   "cell_type": "markdown",
   "metadata": {
    "slideshow": {
     "slide_type": "subslide"
    }
   },
   "source": [
    "# If I can do it, anyone can."
   ]
  },
  {
   "cell_type": "markdown",
   "metadata": {
    "slideshow": {
     "slide_type": "slide"
    }
   },
   "source": [
    "# Why Python?"
   ]
  },
  {
   "cell_type": "markdown",
   "metadata": {
    "slideshow": {
     "slide_type": "fragment"
    }
   },
   "source": [
    "### Powerful  "
   ]
  },
  {
   "cell_type": "markdown",
   "metadata": {
    "slideshow": {
     "slide_type": "fragment"
    }
   },
   "source": [
    "- Full-fledged programming language"
   ]
  },
  {
   "cell_type": "markdown",
   "metadata": {
    "slideshow": {
     "slide_type": "fragment"
    }
   },
   "source": [
    "- Production ready"
   ]
  },
  {
   "cell_type": "markdown",
   "metadata": {
    "slideshow": {
     "slide_type": "fragment"
    }
   },
   "source": [
    "- There's a package for that!"
   ]
  },
  {
   "cell_type": "markdown",
   "metadata": {
    "slideshow": {
     "slide_type": "subslide"
    }
   },
   "source": [
    "# Why Python?"
   ]
  },
  {
   "cell_type": "markdown",
   "metadata": {
    "slideshow": {
     "slide_type": "fragment"
    }
   },
   "source": [
    "### Free"
   ]
  },
  {
   "cell_type": "markdown",
   "metadata": {
    "slideshow": {
     "slide_type": "fragment"
    }
   },
   "source": [
    "- Most Python packages are **totally free** (BSD, Apache 2.0, etc.)"
   ]
  },
  {
   "cell_type": "markdown",
   "metadata": {
    "slideshow": {
     "slide_type": "fragment"
    }
   },
   "source": [
    "- Many stellar IDEs are **totally free**"
   ]
  },
  {
   "cell_type": "markdown",
   "metadata": {
    "slideshow": {
     "slide_type": "fragment"
    }
   },
   "source": [
    "- Most Python packages (and even the language itself) are open source"
   ]
  },
  {
   "cell_type": "markdown",
   "metadata": {
    "slideshow": {
     "slide_type": "fragment"
    }
   },
   "source": [
    "- Many learning resources (books, tutorials, online courses, etc) are **totally free**"
   ]
  },
  {
   "cell_type": "markdown",
   "metadata": {
    "slideshow": {
     "slide_type": "subslide"
    }
   },
   "source": [
    "# Why Python?"
   ]
  },
  {
   "cell_type": "markdown",
   "metadata": {
    "slideshow": {
     "slide_type": "fragment"
    }
   },
   "source": [
    "### Easy to learn"
   ]
  },
  {
   "cell_type": "markdown",
   "metadata": {
    "slideshow": {
     "slide_type": "fragment"
    }
   },
   "source": [
    "- Simple syntax"
   ]
  },
  {
   "cell_type": "markdown",
   "metadata": {
    "slideshow": {
     "slide_type": "fragment"
    }
   },
   "source": [
    "- Readable formatting (enforced by the interpreter)"
   ]
  },
  {
   "cell_type": "markdown",
   "metadata": {
    "slideshow": {
     "slide_type": "fragment"
    }
   },
   "source": [
    "- Multitude of resources"
   ]
  },
  {
   "cell_type": "markdown",
   "metadata": {
    "slideshow": {
     "slide_type": "fragment"
    }
   },
   "source": [
    "- Stack Overflow"
   ]
  },
  {
   "cell_type": "markdown",
   "metadata": {
    "slideshow": {
     "slide_type": "subslide"
    }
   },
   "source": [
    "# Why Python?    "
   ]
  },
  {
   "cell_type": "markdown",
   "metadata": {
    "slideshow": {
     "slide_type": "fragment"
    }
   },
   "source": [
    "### Growing"
   ]
  },
  {
   "cell_type": "markdown",
   "metadata": {
    "slideshow": {
     "slide_type": "fragment"
    }
   },
   "source": [
    "<img class=\"deep-image\" style=\"max-height: 50vh\" src=\"img/python-growth.png\">"
   ]
  },
  {
   "cell_type": "markdown",
   "metadata": {
    "slideshow": {
     "slide_type": "subslide"
    }
   },
   "source": [
    "# Why Python?"
   ]
  },
  {
   "cell_type": "markdown",
   "metadata": {
    "slideshow": {
     "slide_type": "fragment"
    }
   },
   "source": [
    "### Popular"
   ]
  },
  {
   "cell_type": "markdown",
   "metadata": {
    "slideshow": {
     "slide_type": "fragment"
    }
   },
   "source": [
    "<h3>Tiobe Index for April 2018</h3>\n",
    "<img class=\"deep-image\" style=\"max-height: 50vh;\" src=\"img/tiobe.png\">"
   ]
  },
  {
   "cell_type": "markdown",
   "metadata": {
    "slideshow": {
     "slide_type": "subslide"
    }
   },
   "source": [
    "# Why Python?"
   ]
  },
  {
   "cell_type": "markdown",
   "metadata": {
    "slideshow": {
     "slide_type": "fragment"
    }
   },
   "source": [
    "### Ubiquitous"
   ]
  },
  {
   "cell_type": "markdown",
   "metadata": {
    "slideshow": {
     "slide_type": "fragment"
    }
   },
   "source": [
    "- Used in every industry (Healthcare, Finance, Academia, Astronomy, you name it...)"
   ]
  },
  {
   "cell_type": "markdown",
   "metadata": {
    "slideshow": {
     "slide_type": "fragment"
    }
   },
   "source": [
    "- Used by most major tech and analytics companies (Google, Amazon, Facebook, etc.)"
   ]
  },
  {
   "cell_type": "markdown",
   "metadata": {
    "slideshow": {
     "slide_type": "fragment"
    }
   },
   "source": [
    "- Used across technical domains (analytics, web development, etc.)"
   ]
  },
  {
   "cell_type": "markdown",
   "metadata": {
    "slideshow": {
     "slide_type": "subslide"
    }
   },
   "source": [
    "# Why Python?"
   ]
  },
  {
   "cell_type": "markdown",
   "metadata": {
    "slideshow": {
     "slide_type": "fragment"
    }
   },
   "source": [
    "Traceable"
   ]
  },
  {
   "cell_type": "markdown",
   "metadata": {
    "slideshow": {
     "slide_type": "fragment"
    }
   },
   "source": [
    "- Any error can be directly traced to the source"
   ]
  },
  {
   "cell_type": "markdown",
   "metadata": {
    "slideshow": {
     "slide_type": "fragment"
    }
   },
   "source": [
    "- Issues caused by changes in the environment can be easily found and fixed"
   ]
  },
  {
   "cell_type": "markdown",
   "metadata": {
    "slideshow": {
     "slide_type": "subslide"
    }
   },
   "source": [
    "# Why Python?"
   ]
  },
  {
   "cell_type": "markdown",
   "metadata": {
    "slideshow": {
     "slide_type": "fragment"
    }
   },
   "source": [
    "Repeatable"
   ]
  },
  {
   "cell_type": "markdown",
   "metadata": {
    "slideshow": {
     "slide_type": "fragment"
    }
   },
   "source": [
    "- Analyses can be rerun at the click of a button"
   ]
  },
  {
   "cell_type": "markdown",
   "metadata": {
    "slideshow": {
     "slide_type": "fragment"
    }
   },
   "source": [
    "- Analyses can be rerun *without* the click of a button (i.e. scheduled)"
   ]
  },
  {
   "cell_type": "markdown",
   "metadata": {
    "slideshow": {
     "slide_type": "fragment"
    }
   },
   "source": [
    "- Similar analyses can be performed on similar data with minimal code changes"
   ]
  },
  {
   "cell_type": "markdown",
   "metadata": {
    "slideshow": {
     "slide_type": "fragment"
    }
   },
   "source": [
    "- Code can be hacked and maintained long after we're all gone"
   ]
  },
  {
   "cell_type": "markdown",
   "metadata": {
    "slideshow": {
     "slide_type": "slide"
    }
   },
   "source": [
    "# Examples: Data Visualization"
   ]
  },
  {
   "cell_type": "markdown",
   "metadata": {
    "slideshow": {
     "slide_type": "subslide"
    }
   },
   "source": [
    "### Matplotlib: Simple Scatter"
   ]
  },
  {
   "cell_type": "code",
   "execution_count": 11,
   "metadata": {
    "slideshow": {
     "slide_type": "-"
    }
   },
   "outputs": [
    {
     "data": {
      "text/plain": [
       "<matplotlib.collections.PathCollection at 0x1c5557b8>"
      ]
     },
     "execution_count": 11,
     "metadata": {},
     "output_type": "execute_result"
    },
    {
     "data": {
      "image/png": "[encoded data removed]",
      "text/plain": [
       "<matplotlib.figure.Figure at 0x1c5026d8>"
      ]
     },
     "metadata": {},
     "output_type": "display_data"
    }
   ],
   "source": [
    "import matplotlib.pyplot as plt\n",
    "plt.rcParams[\"figure.figsize\"] = (9, 6)\n",
    "\n",
    "x = [0, 1, 2, 3, 4, 5]\n",
    "y = [5, 4, 3, 2, 1, 0]\n",
    "\n",
    "plt.scatter(x, y)"
   ]
  },
  {
   "cell_type": "markdown",
   "metadata": {
    "slideshow": {
     "slide_type": "subslide"
    }
   },
   "source": [
    "### Matplotlib: Smiley Scatter"
   ]
  },
  {
   "cell_type": "code",
   "execution_count": 12,
   "metadata": {
    "slideshow": {
     "slide_type": "-"
    }
   },
   "outputs": [
    {
     "data": {
      "text/plain": [
       "(0, 10)"
      ]
     },
     "execution_count": 12,
     "metadata": {},
     "output_type": "execute_result"
    },
    {
     "data": {
      "image/png": "[encoded data removed]",
      "text/plain": [
       "<matplotlib.figure.Figure at 0x1cc641d0>"
      ]
     },
     "metadata": {},
     "output_type": "display_data"
    }
   ],
   "source": [
    "x = [2.3846, 2.6154, 2.8974, 3.3077, 3.6154, 3.9231, 4.2308, 4.4615, 4.641, 2.8974, 4.0513, 3.3846]\n",
    "y = [4.1851, 3.7236, 3.3389, 3.1851, 3.1851, 3.3005, 3.6082, 3.9543, 4.262, 6.6466, 6.6082, 4.9928]\n",
    "\n",
    "plt.scatter(x, y, s=50)\n",
    "plt.ylim(0, 10)\n",
    "plt.xlim(0, 10)"
   ]
  },
  {
   "cell_type": "markdown",
   "metadata": {
    "slideshow": {
     "slide_type": "subslide"
    }
   },
   "source": [
    "### Matplotlib: Bar Chart\n",
    "\n"
   ]
  },
  {
   "cell_type": "code",
   "execution_count": 13,
   "metadata": {
    "slideshow": {
     "slide_type": "-"
    }
   },
   "outputs": [
    {
     "data": {
      "text/plain": [
       "<matplotlib.text.Text at 0x1cd016a0>"
      ]
     },
     "execution_count": 13,
     "metadata": {},
     "output_type": "execute_result"
    },
    {
     "data": {
      "image/png": "[encoded data removed]",
      "text/plain": [
       "<matplotlib.figure.Figure at 0x1cc6ada0>"
      ]
     },
     "metadata": {},
     "output_type": "display_data"
    }
   ],
   "source": [
    "plt.rcParams[\"figure.figsize\"] = (12, 6)\n",
    "y = [15.777, 13.589, 7.218, 5.803, 5.265, 4.947, 4.218, 3.492, 2.650, 2.018]\n",
    "x = range(len(y))\n",
    "languages = ['Java', 'C', 'C++', 'Python', 'C#', 'Visual Basic .NET', 'PHP', 'JavaScript', 'SQL', 'Ruby']\n",
    "\n",
    "plt.bar(x, y)\n",
    "\n",
    "plt.xticks(x, languages)\n",
    "plt.ylabel(\"Rating\")\n",
    "plt.title(\"TIOBE Ratings for Top 10 Programming Languages\")"
   ]
  },
  {
   "cell_type": "markdown",
   "metadata": {
    "slideshow": {
     "slide_type": "subslide"
    }
   },
   "source": [
    "### GGPlot: Datasaurus"
   ]
  },
  {
   "cell_type": "code",
   "execution_count": 14,
   "metadata": {
    "slideshow": {
     "slide_type": "-"
    }
   },
   "outputs": [
    {
     "data": {
      "image/png": "[encoded data removed]",
      "text/plain": [
       "<matplotlib.figure.Figure at 0x1861b128>"
      ]
     },
     "metadata": {},
     "output_type": "display_data"
    },
    {
     "data": {
      "text/plain": [
       "<ggplot: (-9223372036846394494)>"
      ]
     },
     "execution_count": 14,
     "metadata": {},
     "output_type": "execute_result"
    }
   ],
   "source": [
    "import pandas as pd\n",
    "from ggplot import ggplot, aes, geom_point, xlab, ylab\n",
    "\n",
    "datasaurus = pd.read_csv(\"data/Datasaurus_data.csv\")\n",
    "\n",
    "ggplot(aes(x=\"x\", y=\"y\"), datasaurus) + geom_point()"
   ]
  },
  {
   "cell_type": "markdown",
   "metadata": {
    "slideshow": {
     "slide_type": "subslide"
    }
   },
   "source": [
    "### GGPlot Datasaurus: Now It's Art!"
   ]
  },
  {
   "cell_type": "code",
   "execution_count": 15,
   "metadata": {
    "slideshow": {
     "slide_type": "-"
    }
   },
   "outputs": [
    {
     "name": "stderr",
     "output_type": "stream",
     "text": [
      "Put a bird on it!\n"
     ]
    },
    {
     "data": {
      "image/png": "[encoded data removed]",
      "text/plain": [
       "<matplotlib.figure.Figure at 0x1db63470>"
      ]
     },
     "metadata": {},
     "output_type": "display_data"
    },
    {
     "data": {
      "text/plain": [
       "<ggplot: (30184754)>"
      ]
     },
     "execution_count": 15,
     "metadata": {},
     "output_type": "execute_result"
    }
   ],
   "source": [
    "from ggplot import geom_now_its_art\n",
    "\n",
    "ggplot(aes(x=\"x\", y=\"y\"), datasaurus) + geom_point() + geom_now_its_art()"
   ]
  },
  {
   "cell_type": "markdown",
   "metadata": {
    "slideshow": {
     "slide_type": "subslide"
    }
   },
   "source": [
    "### GGPlot: Density Plot"
   ]
  },
  {
   "cell_type": "code",
   "execution_count": 16,
   "metadata": {
    "slideshow": {
     "slide_type": "-"
    }
   },
   "outputs": [
    {
     "data": {
      "image/png": "[encoded data removed]",
      "text/plain": [
       "<matplotlib.figure.Figure at 0x1db8a080>"
      ]
     },
     "metadata": {},
     "output_type": "display_data"
    },
    {
     "data": {
      "text/plain": [
       "<ggplot: (31123604)>"
      ]
     },
     "execution_count": 16,
     "metadata": {},
     "output_type": "execute_result"
    }
   ],
   "source": [
    "from ggplot import ggplot, aes, geom_density\n",
    "data = pd.read_csv(\"data/daily_noshow_rate.txt\", sep=\"\\t\")\n",
    "\n",
    "ggplot(aes(x=\"NO_SHOW_RATE\"), data) + geom_density()"
   ]
  },
  {
   "cell_type": "markdown",
   "metadata": {
    "slideshow": {
     "slide_type": "subslide"
    }
   },
   "source": [
    "### GGPlot: Density Plot"
   ]
  },
  {
   "cell_type": "code",
   "execution_count": 17,
   "metadata": {
    "slideshow": {
     "slide_type": "-"
    }
   },
   "outputs": [
    {
     "data": {
      "image/png": "[encoded data removed]",
      "text/plain": [
       "<matplotlib.figure.Figure at 0x1ccc97b8>"
      ]
     },
     "metadata": {},
     "output_type": "display_data"
    },
    {
     "data": {
      "text/plain": [
       "<ggplot: (-9223372036824604181)>"
      ]
     },
     "execution_count": 17,
     "metadata": {},
     "output_type": "execute_result"
    }
   ],
   "source": [
    "ggplot(aes(x=\"NO_SHOW_RATE\", color=\"DOW\"), data) + geom_density()"
   ]
  },
  {
   "cell_type": "code",
   "execution_count": 21,
   "metadata": {
    "slideshow": {
     "slide_type": "-"
    }
   },
   "outputs": [
    {
     "data": {
      "text/html": [
       "<table border=\"1\" class=\"dataframe\">\n",
       "  <thead>\n",
       "    <tr style=\"text-align: right;\">\n",
       "      <th>CONTACT_DATE</th>\n",
       "      <th>DOW</th>\n",
       "      <th>NO_SHOW_RATE</th>\n",
       "    </tr>\n",
       "  </thead>\n",
       "  <tbody>\n",
       "    <tr>\n",
       "      <td>2016-10-31 00:00:00.000</td>\n",
       "      <td>Monday</td>\n",
       "      <td>0.178030</td>\n",
       "    </tr>\n",
       "    <tr>\n",
       "      <td>2017-01-09 00:00:00.000</td>\n",
       "      <td>Monday</td>\n",
       "      <td>0.099432</td>\n",
       "    </tr>\n",
       "    <tr>\n",
       "      <td>2017-05-08 00:00:00.000</td>\n",
       "      <td>Monday</td>\n",
       "      <td>0.111524</td>\n",
       "    </tr>\n",
       "    <tr>\n",
       "      <td>2017-06-12 00:00:00.000</td>\n",
       "      <td>Monday</td>\n",
       "      <td>0.065041</td>\n",
       "    </tr>\n",
       "    <tr>\n",
       "      <td>2017-03-13 00:00:00.000</td>\n",
       "      <td>Monday</td>\n",
       "      <td>0.112861</td>\n",
       "    </tr>\n",
       "    <tr>\n",
       "      <td>2017-01-16 00:00:00.000</td>\n",
       "      <td>Monday</td>\n",
       "      <td>0.155080</td>\n",
       "    </tr>\n",
       "    <tr>\n",
       "      <td>2016-08-01 00:00:00.000</td>\n",
       "      <td>Monday</td>\n",
       "      <td>0.136519</td>\n",
       "    </tr>\n",
       "    <tr>\n",
       "      <td>2017-02-20 00:00:00.000</td>\n",
       "      <td>Monday</td>\n",
       "      <td>0.063694</td>\n",
       "    </tr>\n",
       "    <tr>\n",
       "      <td>2016-08-29 00:00:00.000</td>\n",
       "      <td>Monday</td>\n",
       "      <td>0.120370</td>\n",
       "    </tr>\n",
       "    <tr>\n",
       "      <td>2016-07-11 00:00:00.000</td>\n",
       "      <td>Monday</td>\n",
       "      <td>0.121406</td>\n",
       "    </tr>\n",
       "    <tr>\n",
       "      <td>2016-11-07 00:00:00.000</td>\n",
       "      <td>Monday</td>\n",
       "      <td>0.116923</td>\n",
       "    </tr>\n",
       "    <tr>\n",
       "      <td>2017-01-30 00:00:00.000</td>\n",
       "      <td>Monday</td>\n",
       "      <td>0.128906</td>\n",
       "    </tr>\n",
       "    <tr>\n",
       "      <td>2017-03-06 00:00:00.000</td>\n",
       "      <td>Monday</td>\n",
       "      <td>0.122159</td>\n",
       "    </tr>\n",
       "    <tr>\n",
       "      <td>2017-04-03 00:00:00.000</td>\n",
       "      <td>Monday</td>\n",
       "      <td>0.104790</td>\n",
       "    </tr>\n",
       "    <tr>\n",
       "      <td>2017-06-26 00:00:00.000</td>\n",
       "      <td>Monday</td>\n",
       "      <td>0.098522</td>\n",
       "    </tr>\n",
       "    <tr>\n",
       "      <td>2016-09-12 00:00:00.000</td>\n",
       "      <td>Monday</td>\n",
       "      <td>0.102941</td>\n",
       "    </tr>\n",
       "    <tr>\n",
       "      <td>2017-02-06 00:00:00.000</td>\n",
       "      <td>Monday</td>\n",
       "      <td>0.125402</td>\n",
       "    </tr>\n",
       "    <tr>\n",
       "      <td>2016-08-22 00:00:00.000</td>\n",
       "      <td>Monday</td>\n",
       "      <td>0.135371</td>\n",
       "    </tr>\n",
       "    <tr>\n",
       "      <td>2016-11-14 00:00:00.000</td>\n",
       "      <td>Monday</td>\n",
       "      <td>0.109434</td>\n",
       "    </tr>\n",
       "    <tr>\n",
       "      <td>2016-12-19 00:00:00.000</td>\n",
       "      <td>Monday</td>\n",
       "      <td>0.115132</td>\n",
       "    </tr>\n",
       "    <tr>\n",
       "      <td>2017-05-22 00:00:00.000</td>\n",
       "      <td>Monday</td>\n",
       "      <td>0.134831</td>\n",
       "    </tr>\n",
       "    <tr>\n",
       "      <td>2017-04-10 00:00:00.000</td>\n",
       "      <td>Monday</td>\n",
       "      <td>0.087719</td>\n",
       "    </tr>\n",
       "    <tr>\n",
       "      <td>2017-05-01 00:00:00.000</td>\n",
       "      <td>Monday</td>\n",
       "      <td>0.112440</td>\n",
       "    </tr>\n",
       "    <tr>\n",
       "      <td>2016-10-03 00:00:00.000</td>\n",
       "      <td>Monday</td>\n",
       "      <td>0.120000</td>\n",
       "    </tr>\n",
       "    <tr>\n",
       "      <td>2016-09-26 00:00:00.000</td>\n",
       "      <td>Monday</td>\n",
       "      <td>0.140078</td>\n",
       "    </tr>\n",
       "    <tr>\n",
       "      <td>2016-12-05 00:00:00.000</td>\n",
       "      <td>Monday</td>\n",
       "      <td>0.100372</td>\n",
       "    </tr>\n",
       "    <tr>\n",
       "      <td>2017-02-27 00:00:00.000</td>\n",
       "      <td>Monday</td>\n",
       "      <td>0.063063</td>\n",
       "    </tr>\n",
       "    <tr>\n",
       "      <td>2016-08-08 00:00:00.000</td>\n",
       "      <td>Monday</td>\n",
       "      <td>0.147157</td>\n",
       "    </tr>\n",
       "    <tr>\n",
       "      <td>2016-10-17 00:00:00.000</td>\n",
       "      <td>Monday</td>\n",
       "      <td>0.106383</td>\n",
       "    </tr>\n",
       "    <tr>\n",
       "      <td>2017-02-13 00:00:00.000</td>\n",
       "      <td>Monday</td>\n",
       "      <td>0.102041</td>\n",
       "    </tr>\n",
       "    <tr>\n",
       "      <td>2016-10-10 00:00:00.000</td>\n",
       "      <td>Monday</td>\n",
       "      <td>0.112861</td>\n",
       "    </tr>\n",
       "    <tr>\n",
       "      <td>2017-06-05 00:00:00.000</td>\n",
       "      <td>Monday</td>\n",
       "      <td>0.130435</td>\n",
       "    </tr>\n",
       "    <tr>\n",
       "      <td>2016-07-18 00:00:00.000</td>\n",
       "      <td>Monday</td>\n",
       "      <td>0.091603</td>\n",
       "    </tr>\n",
       "    <tr>\n",
       "      <td>2017-01-23 00:00:00.000</td>\n",
       "      <td>Monday</td>\n",
       "      <td>0.121528</td>\n",
       "    </tr>\n",
       "    <tr>\n",
       "      <td>2017-04-17 00:00:00.000</td>\n",
       "      <td>Monday</td>\n",
       "      <td>0.098143</td>\n",
       "    </tr>\n",
       "    <tr>\n",
       "      <td>2016-08-15 00:00:00.000</td>\n",
       "      <td>Monday</td>\n",
       "      <td>0.158798</td>\n",
       "    </tr>\n",
       "    <tr>\n",
       "      <td>2016-09-19 00:00:00.000</td>\n",
       "      <td>Monday</td>\n",
       "      <td>0.146580</td>\n",
       "    </tr>\n",
       "    <tr>\n",
       "      <td>2016-12-12 00:00:00.000</td>\n",
       "      <td>Monday</td>\n",
       "      <td>0.059701</td>\n",
       "    </tr>\n",
       "    <tr>\n",
       "      <td>2017-05-15 00:00:00.000</td>\n",
       "      <td>Monday</td>\n",
       "      <td>0.102151</td>\n",
       "    </tr>\n",
       "    <tr>\n",
       "      <td>2017-06-19 00:00:00.000</td>\n",
       "      <td>Monday</td>\n",
       "      <td>0.111111</td>\n",
       "    </tr>\n",
       "    <tr>\n",
       "      <td>2016-10-24 00:00:00.000</td>\n",
       "      <td>Monday</td>\n",
       "      <td>0.133574</td>\n",
       "    </tr>\n",
       "    <tr>\n",
       "      <td>2016-11-28 00:00:00.000</td>\n",
       "      <td>Monday</td>\n",
       "      <td>0.111111</td>\n",
       "    </tr>\n",
       "    <tr>\n",
       "      <td>2017-03-27 00:00:00.000</td>\n",
       "      <td>Monday</td>\n",
       "      <td>0.085791</td>\n",
       "    </tr>\n",
       "    <tr>\n",
       "      <td>2016-07-25 00:00:00.000</td>\n",
       "      <td>Monday</td>\n",
       "      <td>0.115512</td>\n",
       "    </tr>\n",
       "    <tr>\n",
       "      <td>2016-11-21 00:00:00.000</td>\n",
       "      <td>Monday</td>\n",
       "      <td>0.079019</td>\n",
       "    </tr>\n",
       "    <tr>\n",
       "      <td>2017-03-20 00:00:00.000</td>\n",
       "      <td>Monday</td>\n",
       "      <td>0.096491</td>\n",
       "    </tr>\n",
       "    <tr>\n",
       "      <td>2017-04-24 00:00:00.000</td>\n",
       "      <td>Monday</td>\n",
       "      <td>0.087302</td>\n",
       "    </tr>\n",
       "    <tr>\n",
       "      <td>2016-08-30 00:00:00.000</td>\n",
       "      <td>Tuesday</td>\n",
       "      <td>0.147679</td>\n",
       "    </tr>\n",
       "    <tr>\n",
       "      <td>2016-11-22 00:00:00.000</td>\n",
       "      <td>Tuesday</td>\n",
       "      <td>0.086817</td>\n",
       "    </tr>\n",
       "    <tr>\n",
       "      <td>2016-12-27 00:00:00.000</td>\n",
       "      <td>Tuesday</td>\n",
       "      <td>0.094527</td>\n",
       "    </tr>\n",
       "    <tr>\n",
       "      <td>2017-04-25 00:00:00.000</td>\n",
       "      <td>Tuesday</td>\n",
       "      <td>0.101974</td>\n",
       "    </tr>\n",
       "    <tr>\n",
       "      <td>2017-01-10 00:00:00.000</td>\n",
       "      <td>Tuesday</td>\n",
       "      <td>0.076687</td>\n",
       "    </tr>\n",
       "    <tr>\n",
       "      <td>2017-02-14 00:00:00.000</td>\n",
       "      <td>Tuesday</td>\n",
       "      <td>0.118211</td>\n",
       "    </tr>\n",
       "    <tr>\n",
       "      <td>2016-08-09 00:00:00.000</td>\n",
       "      <td>Tuesday</td>\n",
       "      <td>0.121212</td>\n",
       "    </tr>\n",
       "    <tr>\n",
       "      <td>2016-11-01 00:00:00.000</td>\n",
       "      <td>Tuesday</td>\n",
       "      <td>0.159259</td>\n",
       "    </tr>\n",
       "    <tr>\n",
       "      <td>2017-02-28 00:00:00.000</td>\n",
       "      <td>Tuesday</td>\n",
       "      <td>0.120000</td>\n",
       "    </tr>\n",
       "    <tr>\n",
       "      <td>2017-04-04 00:00:00.000</td>\n",
       "      <td>Tuesday</td>\n",
       "      <td>0.113269</td>\n",
       "    </tr>\n",
       "    <tr>\n",
       "      <td>2017-05-09 00:00:00.000</td>\n",
       "      <td>Tuesday</td>\n",
       "      <td>0.143541</td>\n",
       "    </tr>\n",
       "    <tr>\n",
       "      <td>2016-08-02 00:00:00.000</td>\n",
       "      <td>Tuesday</td>\n",
       "      <td>0.153846</td>\n",
       "    </tr>\n",
       "    <tr>\n",
       "      <td>2016-09-06 00:00:00.000</td>\n",
       "      <td>Tuesday</td>\n",
       "      <td>0.162069</td>\n",
       "    </tr>\n",
       "    <tr>\n",
       "      <td>2017-01-03 00:00:00.000</td>\n",
       "      <td>Tuesday</td>\n",
       "      <td>0.155844</td>\n",
       "    </tr>\n",
       "    <tr>\n",
       "      <td>2016-11-15 00:00:00.000</td>\n",
       "      <td>Tuesday</td>\n",
       "      <td>0.166124</td>\n",
       "    </tr>\n",
       "    <tr>\n",
       "      <td>2017-02-07 00:00:00.000</td>\n",
       "      <td>Tuesday</td>\n",
       "      <td>0.184953</td>\n",
       "    </tr>\n",
       "    <tr>\n",
       "      <td>2016-07-12 00:00:00.000</td>\n",
       "      <td>Tuesday</td>\n",
       "      <td>0.135849</td>\n",
       "    </tr>\n",
       "    <tr>\n",
       "      <td>2016-11-08 00:00:00.000</td>\n",
       "      <td>Tuesday</td>\n",
       "      <td>0.167939</td>\n",
       "    </tr>\n",
       "    <tr>\n",
       "      <td>2017-04-11 00:00:00.000</td>\n",
       "      <td>Tuesday</td>\n",
       "      <td>0.069264</td>\n",
       "    </tr>\n",
       "    <tr>\n",
       "      <td>2016-09-20 00:00:00.000</td>\n",
       "      <td>Tuesday</td>\n",
       "      <td>0.128472</td>\n",
       "    </tr>\n",
       "    <tr>\n",
       "      <td>2016-10-18 00:00:00.000</td>\n",
       "      <td>Tuesday</td>\n",
       "      <td>0.129568</td>\n",
       "    </tr>\n",
       "    <tr>\n",
       "      <td>2017-01-31 00:00:00.000</td>\n",
       "      <td>Tuesday</td>\n",
       "      <td>0.109718</td>\n",
       "    </tr>\n",
       "    <tr>\n",
       "      <td>2016-09-27 00:00:00.000</td>\n",
       "      <td>Tuesday</td>\n",
       "      <td>0.109848</td>\n",
       "    </tr>\n",
       "    <tr>\n",
       "      <td>2016-12-20 00:00:00.000</td>\n",
       "      <td>Tuesday</td>\n",
       "      <td>0.178030</td>\n",
       "    </tr>\n",
       "    <tr>\n",
       "      <td>2017-01-24 00:00:00.000</td>\n",
       "      <td>Tuesday</td>\n",
       "      <td>0.180851</td>\n",
       "    </tr>\n",
       "    <tr>\n",
       "      <td>2016-07-05 00:00:00.000</td>\n",
       "      <td>Tuesday</td>\n",
       "      <td>0.197115</td>\n",
       "    </tr>\n",
       "    <tr>\n",
       "      <td>2016-12-06 00:00:00.000</td>\n",
       "      <td>Tuesday</td>\n",
       "      <td>0.150171</td>\n",
       "    </tr>\n",
       "    <tr>\n",
       "      <td>2016-11-29 00:00:00.000</td>\n",
       "      <td>Tuesday</td>\n",
       "      <td>0.242647</td>\n",
       "    </tr>\n",
       "    <tr>\n",
       "      <td>2017-05-02 00:00:00.000</td>\n",
       "      <td>Tuesday</td>\n",
       "      <td>0.118421</td>\n",
       "    </tr>\n",
       "    <tr>\n",
       "      <td>2017-06-06 00:00:00.000</td>\n",
       "      <td>Tuesday</td>\n",
       "      <td>0.115079</td>\n",
       "    </tr>\n",
       "    <tr>\n",
       "      <td>2016-10-04 00:00:00.000</td>\n",
       "      <td>Tuesday</td>\n",
       "      <td>0.096886</td>\n",
       "    </tr>\n",
       "    <tr>\n",
       "      <td>2017-03-07 00:00:00.000</td>\n",
       "      <td>Tuesday</td>\n",
       "      <td>0.116667</td>\n",
       "    </tr>\n",
       "    <tr>\n",
       "      <td>2016-10-25 00:00:00.000</td>\n",
       "      <td>Tuesday</td>\n",
       "      <td>0.109375</td>\n",
       "    </tr>\n",
       "    <tr>\n",
       "      <td>2016-09-13 00:00:00.000</td>\n",
       "      <td>Tuesday</td>\n",
       "      <td>0.116279</td>\n",
       "    </tr>\n",
       "    <tr>\n",
       "      <td>2017-03-21 00:00:00.000</td>\n",
       "      <td>Tuesday</td>\n",
       "      <td>0.100719</td>\n",
       "    </tr>\n",
       "    <tr>\n",
       "      <td>2017-06-13 00:00:00.000</td>\n",
       "      <td>Tuesday</td>\n",
       "      <td>0.130435</td>\n",
       "    </tr>\n",
       "    <tr>\n",
       "      <td>2016-07-26 00:00:00.000</td>\n",
       "      <td>Tuesday</td>\n",
       "      <td>0.111111</td>\n",
       "    </tr>\n",
       "    <tr>\n",
       "      <td>2017-05-30 00:00:00.000</td>\n",
       "      <td>Tuesday</td>\n",
       "      <td>0.101744</td>\n",
       "    </tr>\n",
       "    <tr>\n",
       "      <td>2016-08-23 00:00:00.000</td>\n",
       "      <td>Tuesday</td>\n",
       "      <td>0.199005</td>\n",
       "    </tr>\n",
       "    <tr>\n",
       "      <td>2017-04-18 00:00:00.000</td>\n",
       "      <td>Tuesday</td>\n",
       "      <td>0.095238</td>\n",
       "    </tr>\n",
       "    <tr>\n",
       "      <td>2017-05-23 00:00:00.000</td>\n",
       "      <td>Tuesday</td>\n",
       "      <td>0.097484</td>\n",
       "    </tr>\n",
       "    <tr>\n",
       "      <td>2017-06-27 00:00:00.000</td>\n",
       "      <td>Tuesday</td>\n",
       "      <td>0.110119</td>\n",
       "    </tr>\n",
       "    <tr>\n",
       "      <td>2016-07-19 00:00:00.000</td>\n",
       "      <td>Tuesday</td>\n",
       "      <td>0.106742</td>\n",
       "    </tr>\n",
       "    <tr>\n",
       "      <td>2016-10-11 00:00:00.000</td>\n",
       "      <td>Tuesday</td>\n",
       "      <td>0.069343</td>\n",
       "    </tr>\n",
       "    <tr>\n",
       "      <td>2017-03-14 00:00:00.000</td>\n",
       "      <td>Tuesday</td>\n",
       "      <td>0.816327</td>\n",
       "    </tr>\n",
       "    <tr>\n",
       "      <td>2017-03-28 00:00:00.000</td>\n",
       "      <td>Tuesday</td>\n",
       "      <td>0.136752</td>\n",
       "    </tr>\n",
       "    <tr>\n",
       "      <td>2016-12-13 00:00:00.000</td>\n",
       "      <td>Tuesday</td>\n",
       "      <td>0.155405</td>\n",
       "    </tr>\n",
       "    <tr>\n",
       "      <td>2016-08-16 00:00:00.000</td>\n",
       "      <td>Tuesday</td>\n",
       "      <td>0.202247</td>\n",
       "    </tr>\n",
       "    <tr>\n",
       "      <td>2017-01-17 00:00:00.000</td>\n",
       "      <td>Tuesday</td>\n",
       "      <td>0.135484</td>\n",
       "    </tr>\n",
       "    <tr>\n",
       "      <td>2017-02-21 00:00:00.000</td>\n",
       "      <td>Tuesday</td>\n",
       "      <td>0.130031</td>\n",
       "    </tr>\n",
       "    <tr>\n",
       "      <td>2017-05-16 00:00:00.000</td>\n",
       "      <td>Tuesday</td>\n",
       "      <td>0.101796</td>\n",
       "    </tr>\n",
       "    <tr>\n",
       "      <td>2017-06-20 00:00:00.000</td>\n",
       "      <td>Tuesday</td>\n",
       "      <td>0.109422</td>\n",
       "    </tr>\n",
       "    <tr>\n",
       "      <td>2016-07-06 00:00:00.000</td>\n",
       "      <td>Wednesday</td>\n",
       "      <td>0.127358</td>\n",
       "    </tr>\n",
       "    <tr>\n",
       "      <td>2016-09-14 00:00:00.000</td>\n",
       "      <td>Wednesday</td>\n",
       "      <td>0.129310</td>\n",
       "    </tr>\n",
       "    <tr>\n",
       "      <td>2016-12-07 00:00:00.000</td>\n",
       "      <td>Wednesday</td>\n",
       "      <td>0.089069</td>\n",
       "    </tr>\n",
       "    <tr>\n",
       "      <td>2017-01-11 00:00:00.000</td>\n",
       "      <td>Wednesday</td>\n",
       "      <td>0.126154</td>\n",
       "    </tr>\n",
       "    <tr>\n",
       "      <td>2017-05-10 00:00:00.000</td>\n",
       "      <td>Wednesday</td>\n",
       "      <td>0.080139</td>\n",
       "    </tr>\n",
       "    <tr>\n",
       "      <td>2016-07-27 00:00:00.000</td>\n",
       "      <td>Wednesday</td>\n",
       "      <td>0.105023</td>\n",
       "    </tr>\n",
       "    <tr>\n",
       "      <td>2016-10-19 00:00:00.000</td>\n",
       "      <td>Wednesday</td>\n",
       "      <td>0.073333</td>\n",
       "    </tr>\n",
       "    <tr>\n",
       "      <td>2017-03-22 00:00:00.000</td>\n",
       "      <td>Wednesday</td>\n",
       "      <td>0.105442</td>\n",
       "    </tr>\n",
       "    <tr>\n",
       "      <td>2016-07-13 00:00:00.000</td>\n",
       "      <td>Wednesday</td>\n",
       "      <td>0.112000</td>\n",
       "    </tr>\n",
       "    <tr>\n",
       "      <td>2016-08-17 00:00:00.000</td>\n",
       "      <td>Wednesday</td>\n",
       "      <td>0.121339</td>\n",
       "    </tr>\n",
       "    <tr>\n",
       "      <td>2017-04-12 00:00:00.000</td>\n",
       "      <td>Wednesday</td>\n",
       "      <td>0.094183</td>\n",
       "    </tr>\n",
       "    <tr>\n",
       "      <td>2016-12-28 00:00:00.000</td>\n",
       "      <td>Wednesday</td>\n",
       "      <td>0.077670</td>\n",
       "    </tr>\n",
       "    <tr>\n",
       "      <td>2017-02-01 00:00:00.000</td>\n",
       "      <td>Wednesday</td>\n",
       "      <td>0.071066</td>\n",
       "    </tr>\n",
       "    <tr>\n",
       "      <td>2017-05-31 00:00:00.000</td>\n",
       "      <td>Wednesday</td>\n",
       "      <td>0.050360</td>\n",
       "    </tr>\n",
       "    <tr>\n",
       "      <td>2016-08-03 00:00:00.000</td>\n",
       "      <td>Wednesday</td>\n",
       "      <td>0.048611</td>\n",
       "    </tr>\n",
       "    <tr>\n",
       "      <td>2016-11-30 00:00:00.000</td>\n",
       "      <td>Wednesday</td>\n",
       "      <td>0.102649</td>\n",
       "    </tr>\n",
       "    <tr>\n",
       "      <td>2017-01-18 00:00:00.000</td>\n",
       "      <td>Wednesday</td>\n",
       "      <td>0.081356</td>\n",
       "    </tr>\n",
       "    <tr>\n",
       "      <td>2016-10-12 00:00:00.000</td>\n",
       "      <td>Wednesday</td>\n",
       "      <td>0.126394</td>\n",
       "    </tr>\n",
       "    <tr>\n",
       "      <td>2016-11-16 00:00:00.000</td>\n",
       "      <td>Wednesday</td>\n",
       "      <td>0.104762</td>\n",
       "    </tr>\n",
       "    <tr>\n",
       "      <td>2017-04-19 00:00:00.000</td>\n",
       "      <td>Wednesday</td>\n",
       "      <td>0.100000</td>\n",
       "    </tr>\n",
       "    <tr>\n",
       "      <td>2017-05-24 00:00:00.000</td>\n",
       "      <td>Wednesday</td>\n",
       "      <td>0.071207</td>\n",
       "    </tr>\n",
       "    <tr>\n",
       "      <td>2017-06-28 00:00:00.000</td>\n",
       "      <td>Wednesday</td>\n",
       "      <td>0.084691</td>\n",
       "    </tr>\n",
       "    <tr>\n",
       "      <td>2016-08-10 00:00:00.000</td>\n",
       "      <td>Wednesday</td>\n",
       "      <td>0.124514</td>\n",
       "    </tr>\n",
       "    <tr>\n",
       "      <td>2016-11-23 00:00:00.000</td>\n",
       "      <td>Wednesday</td>\n",
       "      <td>0.144279</td>\n",
       "    </tr>\n",
       "    <tr>\n",
       "      <td>2017-06-14 00:00:00.000</td>\n",
       "      <td>Wednesday</td>\n",
       "      <td>0.073826</td>\n",
       "    </tr>\n",
       "    <tr>\n",
       "      <td>2016-08-31 00:00:00.000</td>\n",
       "      <td>Wednesday</td>\n",
       "      <td>0.145349</td>\n",
       "    </tr>\n",
       "    <tr>\n",
       "      <td>2017-04-26 00:00:00.000</td>\n",
       "      <td>Wednesday</td>\n",
       "      <td>0.128114</td>\n",
       "    </tr>\n",
       "    <tr>\n",
       "      <td>2016-09-21 00:00:00.000</td>\n",
       "      <td>Wednesday</td>\n",
       "      <td>0.134146</td>\n",
       "    </tr>\n",
       "    <tr>\n",
       "      <td>2017-03-29 00:00:00.000</td>\n",
       "      <td>Wednesday</td>\n",
       "      <td>0.125786</td>\n",
       "    </tr>\n",
       "    <tr>\n",
       "      <td>2017-06-21 00:00:00.000</td>\n",
       "      <td>Wednesday</td>\n",
       "      <td>0.086957</td>\n",
       "    </tr>\n",
       "    <tr>\n",
       "      <td>2017-01-04 00:00:00.000</td>\n",
       "      <td>Wednesday</td>\n",
       "      <td>0.085202</td>\n",
       "    </tr>\n",
       "    <tr>\n",
       "      <td>2017-02-08 00:00:00.000</td>\n",
       "      <td>Wednesday</td>\n",
       "      <td>0.122449</td>\n",
       "    </tr>\n",
       "    <tr>\n",
       "      <td>2017-05-03 00:00:00.000</td>\n",
       "      <td>Wednesday</td>\n",
       "      <td>0.150198</td>\n",
       "    </tr>\n",
       "    <tr>\n",
       "      <td>2016-12-21 00:00:00.000</td>\n",
       "      <td>Wednesday</td>\n",
       "      <td>0.140984</td>\n",
       "    </tr>\n",
       "    <tr>\n",
       "      <td>2017-03-15 00:00:00.000</td>\n",
       "      <td>Wednesday</td>\n",
       "      <td>0.157088</td>\n",
       "    </tr>\n",
       "    <tr>\n",
       "      <td>2016-09-28 00:00:00.000</td>\n",
       "      <td>Wednesday</td>\n",
       "      <td>0.133562</td>\n",
       "    </tr>\n",
       "    <tr>\n",
       "      <td>2016-11-02 00:00:00.000</td>\n",
       "      <td>Wednesday</td>\n",
       "      <td>0.177515</td>\n",
       "    </tr>\n",
       "    <tr>\n",
       "      <td>2017-03-01 00:00:00.000</td>\n",
       "      <td>Wednesday</td>\n",
       "      <td>0.067961</td>\n",
       "    </tr>\n",
       "    <tr>\n",
       "      <td>2017-04-05 00:00:00.000</td>\n",
       "      <td>Wednesday</td>\n",
       "      <td>0.087786</td>\n",
       "    </tr>\n",
       "    <tr>\n",
       "      <td>2017-02-15 00:00:00.000</td>\n",
       "      <td>Wednesday</td>\n",
       "      <td>0.111111</td>\n",
       "    </tr>\n",
       "    <tr>\n",
       "      <td>2016-10-05 00:00:00.000</td>\n",
       "      <td>Wednesday</td>\n",
       "      <td>0.056000</td>\n",
       "    </tr>\n",
       "    <tr>\n",
       "      <td>2016-11-09 00:00:00.000</td>\n",
       "      <td>Wednesday</td>\n",
       "      <td>0.134021</td>\n",
       "    </tr>\n",
       "    <tr>\n",
       "      <td>2016-12-14 00:00:00.000</td>\n",
       "      <td>Wednesday</td>\n",
       "      <td>0.119601</td>\n",
       "    </tr>\n",
       "    <tr>\n",
       "      <td>2017-03-08 00:00:00.000</td>\n",
       "      <td>Wednesday</td>\n",
       "      <td>0.089655</td>\n",
       "    </tr>\n",
       "    <tr>\n",
       "      <td>2017-05-17 00:00:00.000</td>\n",
       "      <td>Wednesday</td>\n",
       "      <td>0.062500</td>\n",
       "    </tr>\n",
       "    <tr>\n",
       "      <td>2016-10-26 00:00:00.000</td>\n",
       "      <td>Wednesday</td>\n",
       "      <td>0.098462</td>\n",
       "    </tr>\n",
       "    <tr>\n",
       "      <td>2017-02-22 00:00:00.000</td>\n",
       "      <td>Wednesday</td>\n",
       "      <td>0.087413</td>\n",
       "    </tr>\n",
       "    <tr>\n",
       "      <td>2016-09-07 00:00:00.000</td>\n",
       "      <td>Wednesday</td>\n",
       "      <td>0.078603</td>\n",
       "    </tr>\n",
       "    <tr>\n",
       "      <td>2017-06-07 00:00:00.000</td>\n",
       "      <td>Wednesday</td>\n",
       "      <td>0.100775</td>\n",
       "    </tr>\n",
       "    <tr>\n",
       "      <td>2016-08-24 00:00:00.000</td>\n",
       "      <td>Wednesday</td>\n",
       "      <td>0.089820</td>\n",
       "    </tr>\n",
       "    <tr>\n",
       "      <td>2017-01-25 00:00:00.000</td>\n",
       "      <td>Wednesday</td>\n",
       "      <td>0.109649</td>\n",
       "    </tr>\n",
       "    <tr>\n",
       "      <td>2016-07-20 00:00:00.000</td>\n",
       "      <td>Wednesday</td>\n",
       "      <td>0.113475</td>\n",
       "    </tr>\n",
       "    <tr>\n",
       "      <td>2016-09-01 00:00:00.000</td>\n",
       "      <td>Thursday</td>\n",
       "      <td>0.166667</td>\n",
       "    </tr>\n",
       "    <tr>\n",
       "      <td>2017-04-27 00:00:00.000</td>\n",
       "      <td>Thursday</td>\n",
       "      <td>0.084337</td>\n",
       "    </tr>\n",
       "    <tr>\n",
       "      <td>2016-11-24 00:00:00.000</td>\n",
       "      <td>Thursday</td>\n",
       "      <td>1.000000</td>\n",
       "    </tr>\n",
       "    <tr>\n",
       "      <td>2016-07-14 00:00:00.000</td>\n",
       "      <td>Thursday</td>\n",
       "      <td>0.160714</td>\n",
       "    </tr>\n",
       "    <tr>\n",
       "      <td>2017-04-13 00:00:00.000</td>\n",
       "      <td>Thursday</td>\n",
       "      <td>0.091954</td>\n",
       "    </tr>\n",
       "    <tr>\n",
       "      <td>2016-10-27 00:00:00.000</td>\n",
       "      <td>Thursday</td>\n",
       "      <td>0.096000</td>\n",
       "    </tr>\n",
       "    <tr>\n",
       "      <td>2017-06-22 00:00:00.000</td>\n",
       "      <td>Thursday</td>\n",
       "      <td>0.090634</td>\n",
       "    </tr>\n",
       "    <tr>\n",
       "      <td>2016-12-01 00:00:00.000</td>\n",
       "      <td>Thursday</td>\n",
       "      <td>0.100000</td>\n",
       "    </tr>\n",
       "    <tr>\n",
       "      <td>2017-01-05 00:00:00.000</td>\n",
       "      <td>Thursday</td>\n",
       "      <td>0.119289</td>\n",
       "    </tr>\n",
       "    <tr>\n",
       "      <td>2017-03-30 00:00:00.000</td>\n",
       "      <td>Thursday</td>\n",
       "      <td>0.063830</td>\n",
       "    </tr>\n",
       "    <tr>\n",
       "      <td>2016-10-13 00:00:00.000</td>\n",
       "      <td>Thursday</td>\n",
       "      <td>0.086667</td>\n",
       "    </tr>\n",
       "    <tr>\n",
       "      <td>2016-11-17 00:00:00.000</td>\n",
       "      <td>Thursday</td>\n",
       "      <td>0.107558</td>\n",
       "    </tr>\n",
       "    <tr>\n",
       "      <td>2017-04-20 00:00:00.000</td>\n",
       "      <td>Thursday</td>\n",
       "      <td>0.072100</td>\n",
       "    </tr>\n",
       "    <tr>\n",
       "      <td>2016-07-07 00:00:00.000</td>\n",
       "      <td>Thursday</td>\n",
       "      <td>0.157692</td>\n",
       "    </tr>\n",
       "    <tr>\n",
       "      <td>2016-11-03 00:00:00.000</td>\n",
       "      <td>Thursday</td>\n",
       "      <td>0.141066</td>\n",
       "    </tr>\n",
       "    <tr>\n",
       "      <td>2017-04-06 00:00:00.000</td>\n",
       "      <td>Thursday</td>\n",
       "      <td>0.131054</td>\n",
       "    </tr>\n",
       "    <tr>\n",
       "      <td>2016-09-15 00:00:00.000</td>\n",
       "      <td>Thursday</td>\n",
       "      <td>0.122857</td>\n",
       "    </tr>\n",
       "    <tr>\n",
       "      <td>2017-02-16 00:00:00.000</td>\n",
       "      <td>Thursday</td>\n",
       "      <td>0.073529</td>\n",
       "    </tr>\n",
       "    <tr>\n",
       "      <td>2017-03-23 00:00:00.000</td>\n",
       "      <td>Thursday</td>\n",
       "      <td>0.091139</td>\n",
       "    </tr>\n",
       "    <tr>\n",
       "      <td>2016-10-06 00:00:00.000</td>\n",
       "      <td>Thursday</td>\n",
       "      <td>0.130058</td>\n",
       "    </tr>\n",
       "    <tr>\n",
       "      <td>2016-11-10 00:00:00.000</td>\n",
       "      <td>Thursday</td>\n",
       "      <td>0.135036</td>\n",
       "    </tr>\n",
       "    <tr>\n",
       "      <td>2016-12-15 00:00:00.000</td>\n",
       "      <td>Thursday</td>\n",
       "      <td>0.091549</td>\n",
       "    </tr>\n",
       "    <tr>\n",
       "      <td>2017-03-09 00:00:00.000</td>\n",
       "      <td>Thursday</td>\n",
       "      <td>0.081967</td>\n",
       "    </tr>\n",
       "    <tr>\n",
       "      <td>2017-01-19 00:00:00.000</td>\n",
       "      <td>Thursday</td>\n",
       "      <td>0.084507</td>\n",
       "    </tr>\n",
       "    <tr>\n",
       "      <td>2017-02-23 00:00:00.000</td>\n",
       "      <td>Thursday</td>\n",
       "      <td>0.111717</td>\n",
       "    </tr>\n",
       "    <tr>\n",
       "      <td>2017-05-18 00:00:00.000</td>\n",
       "      <td>Thursday</td>\n",
       "      <td>0.111111</td>\n",
       "    </tr>\n",
       "    <tr>\n",
       "      <td>2017-02-09 00:00:00.000</td>\n",
       "      <td>Thursday</td>\n",
       "      <td>0.233533</td>\n",
       "    </tr>\n",
       "    <tr>\n",
       "      <td>2016-09-08 00:00:00.000</td>\n",
       "      <td>Thursday</td>\n",
       "      <td>0.103896</td>\n",
       "    </tr>\n",
       "    <tr>\n",
       "      <td>2017-06-08 00:00:00.000</td>\n",
       "      <td>Thursday</td>\n",
       "      <td>0.073482</td>\n",
       "    </tr>\n",
       "    <tr>\n",
       "      <td>2017-01-26 00:00:00.000</td>\n",
       "      <td>Thursday</td>\n",
       "      <td>0.109170</td>\n",
       "    </tr>\n",
       "    <tr>\n",
       "      <td>2017-05-25 00:00:00.000</td>\n",
       "      <td>Thursday</td>\n",
       "      <td>0.112172</td>\n",
       "    </tr>\n",
       "    <tr>\n",
       "      <td>2017-06-29 00:00:00.000</td>\n",
       "      <td>Thursday</td>\n",
       "      <td>0.088496</td>\n",
       "    </tr>\n",
       "    <tr>\n",
       "      <td>2016-08-11 00:00:00.000</td>\n",
       "      <td>Thursday</td>\n",
       "      <td>0.131687</td>\n",
       "    </tr>\n",
       "    <tr>\n",
       "      <td>2016-12-08 00:00:00.000</td>\n",
       "      <td>Thursday</td>\n",
       "      <td>0.148014</td>\n",
       "    </tr>\n",
       "    <tr>\n",
       "      <td>2017-05-11 00:00:00.000</td>\n",
       "      <td>Thursday</td>\n",
       "      <td>0.084302</td>\n",
       "    </tr>\n",
       "    <tr>\n",
       "      <td>2016-10-20 00:00:00.000</td>\n",
       "      <td>Thursday</td>\n",
       "      <td>0.124294</td>\n",
       "    </tr>\n",
       "    <tr>\n",
       "      <td>2017-06-15 00:00:00.000</td>\n",
       "      <td>Thursday</td>\n",
       "      <td>0.106628</td>\n",
       "    </tr>\n",
       "    <tr>\n",
       "      <td>2016-07-28 00:00:00.000</td>\n",
       "      <td>Thursday</td>\n",
       "      <td>0.166667</td>\n",
       "    </tr>\n",
       "    <tr>\n",
       "      <td>2016-12-29 00:00:00.000</td>\n",
       "      <td>Thursday</td>\n",
       "      <td>0.071429</td>\n",
       "    </tr>\n",
       "    <tr>\n",
       "      <td>2017-02-02 00:00:00.000</td>\n",
       "      <td>Thursday</td>\n",
       "      <td>0.122807</td>\n",
       "    </tr>\n",
       "    <tr>\n",
       "      <td>2017-06-01 00:00:00.000</td>\n",
       "      <td>Thursday</td>\n",
       "      <td>0.098191</td>\n",
       "    </tr>\n",
       "    <tr>\n",
       "      <td>2016-09-22 00:00:00.000</td>\n",
       "      <td>Thursday</td>\n",
       "      <td>0.081481</td>\n",
       "    </tr>\n",
       "    <tr>\n",
       "      <td>2016-08-18 00:00:00.000</td>\n",
       "      <td>Thursday</td>\n",
       "      <td>0.158273</td>\n",
       "    </tr>\n",
       "    <tr>\n",
       "      <td>2016-07-21 00:00:00.000</td>\n",
       "      <td>Thursday</td>\n",
       "      <td>0.134783</td>\n",
       "    </tr>\n",
       "    <tr>\n",
       "      <td>2017-03-16 00:00:00.000</td>\n",
       "      <td>Thursday</td>\n",
       "      <td>0.121212</td>\n",
       "    </tr>\n",
       "    <tr>\n",
       "      <td>2016-08-04 00:00:00.000</td>\n",
       "      <td>Thursday</td>\n",
       "      <td>0.098765</td>\n",
       "    </tr>\n",
       "    <tr>\n",
       "      <td>2017-05-04 00:00:00.000</td>\n",
       "      <td>Thursday</td>\n",
       "      <td>0.074074</td>\n",
       "    </tr>\n",
       "    <tr>\n",
       "      <td>2016-08-25 00:00:00.000</td>\n",
       "      <td>Thursday</td>\n",
       "      <td>0.130268</td>\n",
       "    </tr>\n",
       "    <tr>\n",
       "      <td>2016-09-29 00:00:00.000</td>\n",
       "      <td>Thursday</td>\n",
       "      <td>0.088435</td>\n",
       "    </tr>\n",
       "    <tr>\n",
       "      <td>2016-12-22 00:00:00.000</td>\n",
       "      <td>Thursday</td>\n",
       "      <td>0.111111</td>\n",
       "    </tr>\n",
       "    <tr>\n",
       "      <td>2017-03-02 00:00:00.000</td>\n",
       "      <td>Thursday</td>\n",
       "      <td>0.071730</td>\n",
       "    </tr>\n",
       "    <tr>\n",
       "      <td>2017-01-12 00:00:00.000</td>\n",
       "      <td>Thursday</td>\n",
       "      <td>0.103976</td>\n",
       "    </tr>\n",
       "    <tr>\n",
       "      <td>2016-11-11 00:00:00.000</td>\n",
       "      <td>Friday</td>\n",
       "      <td>0.110701</td>\n",
       "    </tr>\n",
       "    <tr>\n",
       "      <td>2016-12-16 00:00:00.000</td>\n",
       "      <td>Friday</td>\n",
       "      <td>0.076246</td>\n",
       "    </tr>\n",
       "    <tr>\n",
       "      <td>2017-04-14 00:00:00.000</td>\n",
       "      <td>Friday</td>\n",
       "      <td>0.067138</td>\n",
       "    </tr>\n",
       "    <tr>\n",
       "      <td>2016-07-29 00:00:00.000</td>\n",
       "      <td>Friday</td>\n",
       "      <td>0.129555</td>\n",
       "    </tr>\n",
       "    <tr>\n",
       "      <td>2016-10-07 00:00:00.000</td>\n",
       "      <td>Friday</td>\n",
       "      <td>0.126394</td>\n",
       "    </tr>\n",
       "    <tr>\n",
       "      <td>2017-02-03 00:00:00.000</td>\n",
       "      <td>Friday</td>\n",
       "      <td>0.103586</td>\n",
       "    </tr>\n",
       "    <tr>\n",
       "      <td>2016-11-25 00:00:00.000</td>\n",
       "      <td>Friday</td>\n",
       "      <td>0.103448</td>\n",
       "    </tr>\n",
       "    <tr>\n",
       "      <td>2016-07-08 00:00:00.000</td>\n",
       "      <td>Friday</td>\n",
       "      <td>0.179856</td>\n",
       "    </tr>\n",
       "    <tr>\n",
       "      <td>2017-01-13 00:00:00.000</td>\n",
       "      <td>Friday</td>\n",
       "      <td>0.042056</td>\n",
       "    </tr>\n",
       "    <tr>\n",
       "      <td>2016-12-23 00:00:00.000</td>\n",
       "      <td>Friday</td>\n",
       "      <td>0.096257</td>\n",
       "    </tr>\n",
       "    <tr>\n",
       "      <td>2017-01-27 00:00:00.000</td>\n",
       "      <td>Friday</td>\n",
       "      <td>0.095023</td>\n",
       "    </tr>\n",
       "    <tr>\n",
       "      <td>2017-03-03 00:00:00.000</td>\n",
       "      <td>Friday</td>\n",
       "      <td>0.118211</td>\n",
       "    </tr>\n",
       "    <tr>\n",
       "      <td>2017-01-06 00:00:00.000</td>\n",
       "      <td>Friday</td>\n",
       "      <td>0.075758</td>\n",
       "    </tr>\n",
       "    <tr>\n",
       "      <td>2017-05-05 00:00:00.000</td>\n",
       "      <td>Friday</td>\n",
       "      <td>0.080537</td>\n",
       "    </tr>\n",
       "    <tr>\n",
       "      <td>2017-06-09 00:00:00.000</td>\n",
       "      <td>Friday</td>\n",
       "      <td>0.116923</td>\n",
       "    </tr>\n",
       "    <tr>\n",
       "      <td>2016-10-14 00:00:00.000</td>\n",
       "      <td>Friday</td>\n",
       "      <td>0.116751</td>\n",
       "    </tr>\n",
       "    <tr>\n",
       "      <td>2016-11-18 00:00:00.000</td>\n",
       "      <td>Friday</td>\n",
       "      <td>0.121495</td>\n",
       "    </tr>\n",
       "    <tr>\n",
       "      <td>2017-03-17 00:00:00.000</td>\n",
       "      <td>Friday</td>\n",
       "      <td>0.079585</td>\n",
       "    </tr>\n",
       "    <tr>\n",
       "      <td>2016-08-19 00:00:00.000</td>\n",
       "      <td>Friday</td>\n",
       "      <td>0.115079</td>\n",
       "    </tr>\n",
       "    <tr>\n",
       "      <td>2016-07-01 00:00:00.000</td>\n",
       "      <td>Friday</td>\n",
       "      <td>0.165414</td>\n",
       "    </tr>\n",
       "    <tr>\n",
       "      <td>2017-05-19 00:00:00.000</td>\n",
       "      <td>Friday</td>\n",
       "      <td>0.065831</td>\n",
       "    </tr>\n",
       "    <tr>\n",
       "      <td>2016-09-02 00:00:00.000</td>\n",
       "      <td>Friday</td>\n",
       "      <td>0.180000</td>\n",
       "    </tr>\n",
       "    <tr>\n",
       "      <td>2017-06-02 00:00:00.000</td>\n",
       "      <td>Friday</td>\n",
       "      <td>0.091324</td>\n",
       "    </tr>\n",
       "    <tr>\n",
       "      <td>2017-06-16 00:00:00.000</td>\n",
       "      <td>Friday</td>\n",
       "      <td>0.136986</td>\n",
       "    </tr>\n",
       "    <tr>\n",
       "      <td>2016-09-30 00:00:00.000</td>\n",
       "      <td>Friday</td>\n",
       "      <td>0.119355</td>\n",
       "    </tr>\n",
       "    <tr>\n",
       "      <td>2016-08-12 00:00:00.000</td>\n",
       "      <td>Friday</td>\n",
       "      <td>0.128834</td>\n",
       "    </tr>\n",
       "    <tr>\n",
       "      <td>2016-11-04 00:00:00.000</td>\n",
       "      <td>Friday</td>\n",
       "      <td>0.126667</td>\n",
       "    </tr>\n",
       "    <tr>\n",
       "      <td>2017-05-12 00:00:00.000</td>\n",
       "      <td>Friday</td>\n",
       "      <td>0.061151</td>\n",
       "    </tr>\n",
       "    <tr>\n",
       "      <td>2016-08-05 00:00:00.000</td>\n",
       "      <td>Friday</td>\n",
       "      <td>0.095436</td>\n",
       "    </tr>\n",
       "    <tr>\n",
       "      <td>2016-09-09 00:00:00.000</td>\n",
       "      <td>Friday</td>\n",
       "      <td>0.134328</td>\n",
       "    </tr>\n",
       "    <tr>\n",
       "      <td>2017-03-31 00:00:00.000</td>\n",
       "      <td>Friday</td>\n",
       "      <td>0.125806</td>\n",
       "    </tr>\n",
       "    <tr>\n",
       "      <td>2017-02-10 00:00:00.000</td>\n",
       "      <td>Friday</td>\n",
       "      <td>0.136364</td>\n",
       "    </tr>\n",
       "    <tr>\n",
       "      <td>2016-07-15 00:00:00.000</td>\n",
       "      <td>Friday</td>\n",
       "      <td>0.099237</td>\n",
       "    </tr>\n",
       "    <tr>\n",
       "      <td>2017-03-10 00:00:00.000</td>\n",
       "      <td>Friday</td>\n",
       "      <td>0.119048</td>\n",
       "    </tr>\n",
       "    <tr>\n",
       "      <td>2016-09-23 00:00:00.000</td>\n",
       "      <td>Friday</td>\n",
       "      <td>0.120944</td>\n",
       "    </tr>\n",
       "    <tr>\n",
       "      <td>2016-10-28 00:00:00.000</td>\n",
       "      <td>Friday</td>\n",
       "      <td>0.092896</td>\n",
       "    </tr>\n",
       "    <tr>\n",
       "      <td>2017-01-20 00:00:00.000</td>\n",
       "      <td>Friday</td>\n",
       "      <td>0.152727</td>\n",
       "    </tr>\n",
       "    <tr>\n",
       "      <td>2017-02-24 00:00:00.000</td>\n",
       "      <td>Friday</td>\n",
       "      <td>0.077170</td>\n",
       "    </tr>\n",
       "    <tr>\n",
       "      <td>2017-06-23 00:00:00.000</td>\n",
       "      <td>Friday</td>\n",
       "      <td>0.127049</td>\n",
       "    </tr>\n",
       "    <tr>\n",
       "      <td>2016-09-16 00:00:00.000</td>\n",
       "      <td>Friday</td>\n",
       "      <td>0.111111</td>\n",
       "    </tr>\n",
       "    <tr>\n",
       "      <td>2016-10-21 00:00:00.000</td>\n",
       "      <td>Friday</td>\n",
       "      <td>0.115242</td>\n",
       "    </tr>\n",
       "    <tr>\n",
       "      <td>2017-02-17 00:00:00.000</td>\n",
       "      <td>Friday</td>\n",
       "      <td>0.080268</td>\n",
       "    </tr>\n",
       "    <tr>\n",
       "      <td>2017-03-24 00:00:00.000</td>\n",
       "      <td>Friday</td>\n",
       "      <td>0.096774</td>\n",
       "    </tr>\n",
       "    <tr>\n",
       "      <td>2016-12-30 00:00:00.000</td>\n",
       "      <td>Friday</td>\n",
       "      <td>0.140741</td>\n",
       "    </tr>\n",
       "    <tr>\n",
       "      <td>2017-04-28 00:00:00.000</td>\n",
       "      <td>Friday</td>\n",
       "      <td>0.113636</td>\n",
       "    </tr>\n",
       "    <tr>\n",
       "      <td>2016-08-26 00:00:00.000</td>\n",
       "      <td>Friday</td>\n",
       "      <td>0.116667</td>\n",
       "    </tr>\n",
       "    <tr>\n",
       "      <td>2017-05-26 00:00:00.000</td>\n",
       "      <td>Friday</td>\n",
       "      <td>0.109155</td>\n",
       "    </tr>\n",
       "    <tr>\n",
       "      <td>2017-06-30 00:00:00.000</td>\n",
       "      <td>Friday</td>\n",
       "      <td>0.097222</td>\n",
       "    </tr>\n",
       "    <tr>\n",
       "      <td>2016-12-09 00:00:00.000</td>\n",
       "      <td>Friday</td>\n",
       "      <td>0.074219</td>\n",
       "    </tr>\n",
       "    <tr>\n",
       "      <td>2017-04-07 00:00:00.000</td>\n",
       "      <td>Friday</td>\n",
       "      <td>0.054217</td>\n",
       "    </tr>\n",
       "    <tr>\n",
       "      <td>2016-07-22 00:00:00.000</td>\n",
       "      <td>Friday</td>\n",
       "      <td>0.141818</td>\n",
       "    </tr>\n",
       "    <tr>\n",
       "      <td>2017-04-21 00:00:00.000</td>\n",
       "      <td>Friday</td>\n",
       "      <td>0.096154</td>\n",
       "    </tr>\n",
       "    <tr>\n",
       "      <td>2016-12-02 00:00:00.000</td>\n",
       "      <td>Friday</td>\n",
       "      <td>0.088339</td>\n",
       "    </tr>\n",
       "  </tbody>\n",
       "</table>"
      ],
      "text/plain": [
       "<IPython.core.display.HTML object>"
      ]
     },
     "execution_count": 21,
     "metadata": {},
     "output_type": "execute_result"
    }
   ],
   "source": [
    "HTML(data.to_html(index=False))"
   ]
  },
  {
   "cell_type": "markdown",
   "metadata": {
    "slideshow": {
     "slide_type": "slide"
    }
   },
   "source": [
    "# Examples: Data Cleansing"
   ]
  },
  {
   "cell_type": "markdown",
   "metadata": {
    "slideshow": {
     "slide_type": "slide"
    }
   },
   "source": [
    "# Examples: Data Blending"
   ]
  },
  {
   "cell_type": "markdown",
   "metadata": {
    "slideshow": {
     "slide_type": "slide"
    }
   },
   "source": [
    "# Examples: Database Interface"
   ]
  },
  {
   "cell_type": "markdown",
   "metadata": {
    "slideshow": {
     "slide_type": "slide"
    }
   },
   "source": [
    "# Examples: Web Scraping"
   ]
  },
  {
   "cell_type": "markdown",
   "metadata": {
    "slideshow": {
     "slide_type": "slide"
    }
   },
   "source": [
    "# Examples: Predictive Analytics"
   ]
  },
  {
   "cell_type": "markdown",
   "metadata": {
    "slideshow": {
     "slide_type": "slide"
    }
   },
   "source": [
    "# Examples: Machine Learning"
   ]
  },
  {
   "cell_type": "markdown",
   "metadata": {
    "slideshow": {
     "slide_type": "slide"
    }
   },
   "source": [
    "# Examples: Operations Research/Optimization"
   ]
  },
  {
   "cell_type": "markdown",
   "metadata": {
    "slideshow": {
     "slide_type": "slide"
    }
   },
   "source": [
    "# Resources\n",
    "### - [Python for Everybody](https://www.py4e.com/)\n",
    "\n",
    "\n",
    "# Citations\n",
    "### - [Jupyter Slides](https://medium.com/@mjspeck/presenting-code-using-jupyter-notebook-slides-a8a3c3b59d67)\n",
    "\n",
    "### - [Python Growth Over Time](https://stackoverflow.blog/2017/09/06/incredible-growth-python/)\n",
    "### - [TIOBE Index](https://www.tiobe.com/tiobe-index/)\n",
    "### - [Datasuarus](http://www.thefunctionalart.com/2016/08/download-datasaurus-never-trust-summary.html)\n",
    "### - [Draw My Data](http://robertgrantstats.co.uk/drawmydata.html)"
   ]
  },
  {
   "cell_type": "code",
   "execution_count": null,
   "metadata": {
    "slideshow": {
     "slide_type": "slide"
    }
   },
   "outputs": [],
   "source": []
  }
 ],
 "metadata": {
  "celltoolbar": "Slideshow",
  "kernelspec": {
   "display_name": "Python 3",
   "language": "python",
   "name": "python3"
  },
  "language_info": {
   "codemirror_mode": {
    "name": "ipython",
    "version": 3
   },
   "file_extension": ".py",
   "mimetype": "text/x-python",
   "name": "python",
   "nbconvert_exporter": "python",
   "pygments_lexer": "ipython3",
   "version": "3.5.3"
  },
  "nbpresent": {
   "livereveal": {
    "height": 768,
    "start_slideshow_at": "beginning",
    "theme": "serif",
    "transition": "cube",
    "width": 1024
   },
   "slides": {},
   "themes": {
    "default": "ac0b8014-ac02-4f4b-9109-8fb822c56482",
    "theme": {}
   }
  }
 },
 "nbformat": 4,
 "nbformat_minor": 2
}
